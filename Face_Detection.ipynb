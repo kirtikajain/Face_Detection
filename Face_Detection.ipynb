{
  "nbformat": 4,
  "nbformat_minor": 0,
  "metadata": {
    "colab": {
      "name": "Face_Detection.ipynb",
      "provenance": [],
      "collapsed_sections": [],
      "authorship_tag": "ABX9TyPhjUspQQE8vCmELI4czsFE",
      "include_colab_link": true
    },
    "kernelspec": {
      "name": "python3",
      "display_name": "Python 3"
    },
    "accelerator": "GPU"
  },
  "cells": [
    {
      "cell_type": "markdown",
      "metadata": {
        "id": "view-in-github",
        "colab_type": "text"
      },
      "source": [
        "<a href=\"https://colab.research.google.com/github/kirtikajain/Face_recognition/blob/master/Face_Detection.ipynb\" target=\"_parent\"><img src=\"https://colab.research.google.com/assets/colab-badge.svg\" alt=\"Open In Colab\"/></a>"
      ]
    },
    {
      "cell_type": "code",
      "metadata": {
        "id": "0K7ucpkJ7ylL",
        "colab_type": "code",
        "colab": {
          "base_uri": "https://localhost:8080/",
          "height": 354
        },
        "outputId": "2780ad66-a082-4845-8ca7-e8ecb3ed7bfc"
      },
      "source": [
        "!pip install cmake dlib face_recognition numpy opencv_python\n"
      ],
      "execution_count": null,
      "outputs": [
        {
          "output_type": "stream",
          "text": [
            "Requirement already satisfied: cmake in /usr/local/lib/python3.6/dist-packages (3.12.0)\n",
            "Requirement already satisfied: dlib in /usr/local/lib/python3.6/dist-packages (19.18.0)\n",
            "Collecting face_recognition\n",
            "  Downloading https://files.pythonhosted.org/packages/1e/95/f6c9330f54ab07bfa032bf3715c12455a381083125d8880c43cbe76bb3d0/face_recognition-1.3.0-py2.py3-none-any.whl\n",
            "Requirement already satisfied: numpy in /usr/local/lib/python3.6/dist-packages (1.18.5)\n",
            "Requirement already satisfied: opencv_python in /usr/local/lib/python3.6/dist-packages (4.1.2.30)\n",
            "Requirement already satisfied: Pillow in /usr/local/lib/python3.6/dist-packages (from face_recognition) (7.0.0)\n",
            "Requirement already satisfied: Click>=6.0 in /usr/local/lib/python3.6/dist-packages (from face_recognition) (7.1.2)\n",
            "Collecting face-recognition-models>=0.3.0\n",
            "\u001b[?25l  Downloading https://files.pythonhosted.org/packages/cf/3b/4fd8c534f6c0d1b80ce0973d01331525538045084c73c153ee6df20224cf/face_recognition_models-0.3.0.tar.gz (100.1MB)\n",
            "\u001b[K     |████████████████████████████████| 100.2MB 49kB/s \n",
            "\u001b[?25hBuilding wheels for collected packages: face-recognition-models\n",
            "  Building wheel for face-recognition-models (setup.py) ... \u001b[?25l\u001b[?25hdone\n",
            "  Created wheel for face-recognition-models: filename=face_recognition_models-0.3.0-py2.py3-none-any.whl size=100566172 sha256=e22667fb208c0b687173869b18e14dd8cc301f7748fe307dcbd7e0a35af2754c\n",
            "  Stored in directory: /root/.cache/pip/wheels/d2/99/18/59c6c8f01e39810415c0e63f5bede7d83dfb0ffc039865465f\n",
            "Successfully built face-recognition-models\n",
            "Installing collected packages: face-recognition-models, face-recognition\n",
            "Successfully installed face-recognition-1.3.0 face-recognition-models-0.3.0\n"
          ],
          "name": "stdout"
        }
      ]
    },
    {
      "cell_type": "code",
      "metadata": {
        "id": "g6pXXo7pJj9h",
        "colab_type": "code",
        "colab": {
          "base_uri": "https://localhost:8080/",
          "height": 34
        },
        "outputId": "ea211ed3-824e-4289-e045-b3ae6a575e82"
      },
      "source": [
        "from google.colab import drive\n",
        "drive.mount('/gdrive/')"
      ],
      "execution_count": null,
      "outputs": [
        {
          "output_type": "stream",
          "text": [
            "Drive already mounted at /gdrive/; to attempt to forcibly remount, call drive.mount(\"/gdrive/\", force_remount=True).\n"
          ],
          "name": "stdout"
        }
      ]
    },
    {
      "cell_type": "code",
      "metadata": {
        "id": "jmoITqvaLhOb",
        "colab_type": "code",
        "colab": {
          "base_uri": "https://localhost:8080/",
          "height": 34
        },
        "outputId": "cd0f4f0d-808b-4f75-f3f1-f96295ee7c52"
      },
      "source": [
        "%cd /gdrive/My Drive/Face_Detection"
      ],
      "execution_count": null,
      "outputs": [
        {
          "output_type": "stream",
          "text": [
            "/gdrive/My Drive/Face_Detection\n"
          ],
          "name": "stdout"
        }
      ]
    },
    {
      "cell_type": "code",
      "metadata": {
        "id": "XWVEpVx0QGt5",
        "colab_type": "code",
        "colab": {
          "base_uri": "https://localhost:8080/",
          "height": 70
        },
        "outputId": "34abf4d5-ee7d-4740-dbb3-b6505bfa2d6f"
      },
      "source": [
        "%ls"
      ],
      "execution_count": null,
      "outputs": [
        {
          "output_type": "stream",
          "text": [
            "donald3.jpeg      MD1.jpg  m_obama2.jpeg  obama2.jpeg  Trump1.jpg\n",
            "\u001b[0m\u001b[01;34mfaces\u001b[0m/            MD2.jpg  modi2.jpeg     obama3.jpg\n",
            "KejriwalShah.jpg  MO1.jpg  modi3.jpeg     OD1.jpg\n"
          ],
          "name": "stdout"
        }
      ]
    },
    {
      "cell_type": "code",
      "metadata": {
        "id": "gRTC-IYXS5Dz",
        "colab_type": "code",
        "colab": {
          "base_uri": "https://localhost:8080/",
          "height": 122
        },
        "outputId": "09130fa8-e264-4c82-a637-836ba7ad139c"
      },
      "source": [
        "!pip3 install face_recognition"
      ],
      "execution_count": null,
      "outputs": [
        {
          "output_type": "stream",
          "text": [
            "Requirement already satisfied: face_recognition in /usr/local/lib/python3.6/dist-packages (1.3.0)\n",
            "Requirement already satisfied: numpy in /usr/local/lib/python3.6/dist-packages (from face_recognition) (1.18.5)\n",
            "Requirement already satisfied: dlib>=19.7 in /usr/local/lib/python3.6/dist-packages (from face_recognition) (19.18.0)\n",
            "Requirement already satisfied: Click>=6.0 in /usr/local/lib/python3.6/dist-packages (from face_recognition) (7.1.2)\n",
            "Requirement already satisfied: Pillow in /usr/local/lib/python3.6/dist-packages (from face_recognition) (7.0.0)\n",
            "Requirement already satisfied: face-recognition-models>=0.3.0 in /usr/local/lib/python3.6/dist-packages (from face_recognition) (0.3.0)\n"
          ],
          "name": "stdout"
        }
      ]
    },
    {
      "cell_type": "code",
      "metadata": {
        "id": "-Zi95ILvRY2_",
        "colab_type": "code",
        "colab": {}
      },
      "source": [
        "import face_recognition as fr\n",
        "import cv2\n",
        "import os,shutil\n",
        "import numpy as np\n",
        "from google.colab.patches import cv2_imshow"
      ],
      "execution_count": null,
      "outputs": []
    },
    {
      "cell_type": "code",
      "metadata": {
        "id": "kUX8ue9STUmw",
        "colab_type": "code",
        "colab": {}
      },
      "source": [
        "def get_encoded_faces():\n",
        "  encoded={}\n",
        "  for dirpath,dname,fname in os.walk(\"./faces\"):\n",
        "    for f in fname:\n",
        "      if f.endswith(\".jpg\") or f.endswith(\".jpeg\"):\n",
        "        face=fr.load_image_file(\"faces/\"+f) \n",
        "        encoding=fr.face_encodings(face)[0]\n",
        "        encoded[f.split(\".\")[0]]=encoding\n",
        "  return encoded\n"
      ],
      "execution_count": null,
      "outputs": []
    },
    {
      "cell_type": "code",
      "metadata": {
        "id": "MbA__rlIVPYB",
        "colab_type": "code",
        "colab": {}
      },
      "source": [
        "x=get_encoded_faces()"
      ],
      "execution_count": null,
      "outputs": []
    },
    {
      "cell_type": "code",
      "metadata": {
        "id": "CD0IOR5ad5DF",
        "colab_type": "code",
        "colab": {}
      },
      "source": [
        "def classify_face(im):\n",
        "  faces=get_encoded_faces()\n",
        "  faces_encoded= list(faces.values())\n",
        "  known_face_names= list(faces.keys())\n",
        "\n",
        "  img=cv2.imread(im)\n",
        "  face_locations=fr.face_locations(img)\n",
        "  unknown_face_encodings=fr.face_encodings(img,face_locations)\n",
        "\n",
        "  face_names=[]\n",
        "  for face_encoding in unknown_face_encodings:\n",
        "    name=\"Unknown\"\n",
        "    matches=fr.compare_faces(faces_encoded,face_encoding)\n",
        "\n",
        "    face_distances= fr.face_distance(faces_encoded,face_encoding)\n",
        "    best_match_index=np.argmin(face_distances)\n",
        "    if matches[best_match_index]:\n",
        "      name=known_face_names[best_match_index]\n",
        "    \n",
        "    face_names.append(name)\n",
        "\n",
        "    for(top, right, bottom, left), name in zip(face_locations, face_names):\n",
        "      cv2.rectangle(img,(left-20,top-20),(right+20,bottom+20),(255,0,0),2)\n",
        "      cv2.rectangle(img,(left-20,bottom-15),(right+20,bottom+20),(255,0,0),cv2.FILLED)\n",
        "      cv2.putText(img,name,(left-20,bottom+15),cv2.FONT_HERSHEY_SIMPLEX,0.5,(255,255,255),1)\n",
        "\n",
        "  while True:\n",
        "    cv2_imshow(img)\n",
        "    return face_names\n",
        "      \n",
        "classify_face(\"\")"
      ],
      "execution_count": null,
      "outputs": []
    },
    {
      "cell_type": "code",
      "metadata": {
        "id": "gTNRgvwQk-1N",
        "colab_type": "code",
        "colab": {}
      },
      "source": [
        "def learning(image):\n",
        "  c_face=classify_face(image)\n",
        "  if \"Unknown\" in c_face:\n",
        "    que=input(\"There is an Unknown face. Would you like to add it in the system? \")\n",
        "    if que==\"yes\" or que==\"Yes\" or que==\"YES\":\n",
        "      imageFileName=input(\"Enter the name: \")\n",
        "      shutil.move(imageFileName,'/gdrive/My Drive/Face_Detection')\n",
        "      print(learning(image))\n",
        "    else:\n",
        "      print(c_face)\n",
        "  else:\n",
        "      print(c_face)"
      ],
      "execution_count": null,
      "outputs": []
    },
    {
      "cell_type": "code",
      "metadata": {
        "id": "ejixrnN_rm98",
        "colab_type": "code",
        "colab": {}
      },
      "source": [
        ""
      ],
      "execution_count": null,
      "outputs": []
    }
  ]
}